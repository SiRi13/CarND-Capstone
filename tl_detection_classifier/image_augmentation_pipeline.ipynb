{
 "cells": [
  {
   "cell_type": "markdown",
   "metadata": {},
   "source": [
    "### Udacity Self-Driving Car Nanodegree\n",
    "# Image augmenation for Capstione Project\n",
    "\n",
    "Find examples at the end of notebook"
   ]
  },
  {
   "cell_type": "code",
   "execution_count": 2,
   "metadata": {
    "collapsed": true
   },
   "outputs": [],
   "source": [
    "import cv2\n",
    "import matplotlib.pyplot as plt\n",
    "import numpy as np\n",
    "%matplotlib inline\n",
    "source = '/Users/jakobkammerer/Google Drive/Happy Robots/TrafficLightData_real/data000155.png'"
   ]
  },
  {
   "cell_type": "markdown",
   "metadata": {},
   "source": [
    "## Image loading"
   ]
  },
  {
   "cell_type": "code",
   "execution_count": null,
   "metadata": {
    "collapsed": false
   },
   "outputs": [],
   "source": [
    "img = cv2.imread(source)\n",
    "\n",
    "plt.imshow(bgr2rgb(img))\n",
    "plt.show()"
   ]
  },
  {
   "cell_type": "markdown",
   "metadata": {},
   "source": [
    "## Augmentation Functions"
   ]
  },
  {
   "cell_type": "code",
   "execution_count": null,
   "metadata": {
    "collapsed": false
   },
   "outputs": [],
   "source": [
    "def bgr2rgb(img_bgr):\n",
    "    img_rgb = cv2.cvtColor(img_bgr, cv2.COLOR_BGR2RGB)\n",
    "    return img_rgb\n",
    "\n",
    "def aug_brightness(img_in):\n",
    "    \"\"\"\n",
    "    Augment picture in brightness\n",
    "    :param img_in: image in BGR (openCV standard)\n",
    "    :return: image in BGR, augmented in brightness\n",
    "    \"\"\"\n",
    "    # Change to HSV color space and transform to float64 array\n",
    "    img_out = cv2.cvtColor(img_in, cv2.COLOR_BGR2HSV)\n",
    "    img_out = np.array(img_out, dtype=np.float64)\n",
    "    # Set a random number for brightness adjustment and adjust\n",
    "    rand_bright = 0.5 + np.random.uniform()\n",
    "    img_out[:,:,2] = img_out[:,:,2] * rand_bright\n",
    "    # set every value higher than 255 to 255\n",
    "    img_out[:,:,2][img_out[:,:,2] > 255] = 255\n",
    "    img_out[:,:,2][img_out[:,:,2] < 0] = 0\n",
    "    # Transform back (unit8 and BRG)\n",
    "    img_out = np.array(img_out, dtype=np.uint8)\n",
    "    img_out = cv2.cvtColor(img_out, cv2.COLOR_HSV2BGR)\n",
    "    return img_out\n",
    "\n",
    "def aug_shadow(img_in):\n",
    "    # Random values according to image size\n",
    "    width = np.shape(img_in)[1]\n",
    "    height = np.shape(img_in)[0]\n",
    "    top_y = width * np.random.uniform()\n",
    "    bot_y = width * np.random.uniform()\n",
    "    top_x = 0\n",
    "    bot_x = height\n",
    "    \n",
    "    # Color space and mask\n",
    "    img_hls = cv2.cvtColor(img_in, cv2.COLOR_BGR2HLS)\n",
    "    \n",
    "    shadow_mask = 0 * img_hls[:,:,1]\n",
    "    X_m = np.mgrid[:height, :width][0]\n",
    "    Y_m = np.mgrid[:height, :width][1]\n",
    "    shadow_mask[((X_m - top_x)*(bot_y - top_y) - (bot_x - top_x) * (Y_m - top_y)) >= 0] = 1\n",
    "    \n",
    "    # Augment\n",
    "    # Random bright .25 and .75\n",
    "    #rand_bright = np.random.randint(low=8, high=7) / 100\n",
    "    #rand_bright = 0.5 + np.random.uniform()\n",
    "    rand_bright = (8 + (1.5 * np.random.uniform())) / 10\n",
    "\n",
    "    cond1 = shadow_mask == 1\n",
    "    cond0 = shadow_mask == 0\n",
    "    if np.random.randint(2) == 1:\n",
    "        img_hls[:,:,1][cond1] = img_hls[:,:,1][cond1] * rand_bright\n",
    "    else:\n",
    "        img_hls[:,:,1][cond0] = img_hls[:,:,1][cond0] * rand_bright\n",
    "    \n",
    "    img_hls[:,:,1][img_hls[:,:,1] > 255] = 255\n",
    "    img_hls[:,:,1][img_hls[:,:,1] < 0] = 0\n",
    "    \n",
    "    img_hls = np.array(img_hls, dtype=np.uint8)\n",
    "    \n",
    "    # Transform back to BGR Color Space\n",
    "    img_out = cv2.cvtColor(img_hls, cv2.COLOR_HLS2BGR)\n",
    "    \n",
    "    return img_out\n",
    "        \n",
    "def aug_blur(img_in):\n",
    "    \"\"\"\n",
    "    Blurs the image\n",
    "    :param img_in: BGR image (cv2 standard)\n",
    "    :return: BGR image with blur\n",
    "    \"\"\"\n",
    "    rand_kernel_size = np.random.randint(low=5, high=21)\n",
    "    rand_kernel = (rand_kernel_size, rand_kernel_size)\n",
    "    \n",
    "    return cv2.blur(img_in, rand_kernel)\n",
    "\n",
    "def aug_shift(img_in):\n",
    "    \"\"\"\n",
    "    Shifts picture in x and y by random (max. 15 % of pixels)\n",
    "    :param img_in: BGR image (cv2 standard)\n",
    "    :return: BGR image shifted\n",
    "    \"\"\"\n",
    "    # Percentage\n",
    "    rand_shift_x = np.random.randint(low=1, high=31) - 15\n",
    "    rand_shift_y = np.random.randint(low=1, high=31) - 15\n",
    "    \n",
    "    # Pixels\n",
    "    rand_shift_x = np.int(np.shape(img_in)[1] * (rand_shift_x / 100))\n",
    "    rand_shift_x = np.int(np.shape(img_in)[0] * (rand_shift_y / 100))\n",
    "    \n",
    "    # Shift\n",
    "    shift_m = np.float32([[1,0,rand_shift_x], [0,1,rand_shift_y]])\n",
    "    img_shift = cv2.warpAffine(img_in, shift_m, (np.shape(img_in)[1], np.shape(img_in)[0]))\n",
    "    \n",
    "    return img_shift\n",
    "\n",
    "def aug_flip(img_in):\n",
    "    \"\"\"\n",
    "    flips image vertically\n",
    "    :param img_in: BGR image (cv2 standard)\n",
    "    :return: BRG image flipped\n",
    "    \"\"\"\n",
    "    return np.fliplr(img_in)\n",
    "\n",
    "def aug_color(img_in):\n",
    "    \"\"\"\n",
    "    Manipulates color channelwise by random (channel and value)\n",
    "    :param img_in: BGR image (cv2 standard)\n",
    "    :return: BGR image manipulated in color\n",
    "    \"\"\"\n",
    "    # Convert to float64 array\n",
    "    img_out = np.array(img_in, dtype=np.float64)\n",
    "    \n",
    "    # Random Color Channel and random manipulation\n",
    "    rand_color = np.random.randint(3)\n",
    "    rand_manipulation = np.random.randint(low=-20, high=21)\n",
    "    \n",
    "    # Manipluation\n",
    "    img_out[:,:,rand_color] = img_out[:,:,rand_color] + rand_manipulation\n",
    "    img_out[:,:,rand_color][img_out[:,:,rand_color] > 255] = 255\n",
    "    img_out[:,:,rand_color][img_out[:,:,rand_color] < 0] = 0\n",
    "    \n",
    "    # Convert back and return\n",
    "    return np.array(img_out, dtype=np.uint8)    \n",
    "\n",
    "def aug_rotation(img_in):\n",
    "    \"\"\"\n",
    "    Rotates the image\n",
    "    :param in: BGR image (cv2 standard)\n",
    "    :return: BRG image rotated\n",
    "    \"\"\"\n",
    "    cols = np.shape(img_in)[1]\n",
    "    rows = np.shape(img_in)[0]\n",
    "    \n",
    "    # Random angle (degrees)\n",
    "    rand_angle = np.random.randint(low=-10, high=11)\n",
    "    \n",
    "    M = cv2.getRotationMatrix2D((cols/2,rows/2), rand_angle, 1)\n",
    "    dst = cv2.warpAffine(img_in, M, (cols,rows))\n",
    "    \n",
    "    return dst\n",
    "\n",
    "def aug_perspective(img_in):\n",
    "    \"\"\"\n",
    "    Perspective transform of input image\n",
    "    :param img_in: BGR image (cv2 standard)\n",
    "    :return: BGR image with perspective transform\n",
    "    \"\"\"\n",
    "    height = np.shape(img_in)[0]\n",
    "    width = np.shape(img_in)[1]\n",
    "    \n",
    "    # Set maximum grab for perspective transform\n",
    "    percentage_width = np.uint8(0.1 * width)\n",
    "    percentage_height = np.uint8(0.1 * height)\n",
    "    \n",
    "    # Points for transformation\n",
    "    px1 = [0 + np.random.randint(percentage_width), 0 + np.random.randint(percentage_height)]\n",
    "    px2 = [width - np.random.randint(percentage_width), 0 + np.random.randint(percentage_height)]\n",
    "    px3 = [width - np.random.randint(percentage_width), height - np.random.randint(percentage_height)]\n",
    "    px4 = [0 + np.random.randint(percentage_width), height - np.random.randint(percentage_height)]\n",
    "    \n",
    "    org = np.float32([px1, px2, px3, px4])\n",
    "    \n",
    "    # Destinations\n",
    "    dst = np.float32([[0,0], [width, 0], [width, height], [0, height]])\n",
    "    \n",
    "    M = cv2.getPerspectiveTransform(org, dst)\n",
    "    img_out = cv2.warpPerspective(img_in, M, (width, height))\n",
    "    \n",
    "    return img_out"
   ]
  },
  {
   "cell_type": "code",
   "execution_count": 3,
   "metadata": {
    "collapsed": false
   },
   "outputs": [
    {
     "name": "stdout",
     "output_type": "stream",
     "text": [
      "1\n",
      "0\n",
      "0\n",
      "0\n",
      "1\n",
      "1\n",
      "0\n",
      "1\n",
      "0\n",
      "0\n"
     ]
    },
    {
     "data": {
      "text/plain": [
       "[None, None, None, None, None, None, None, None, None, None]"
      ]
     },
     "execution_count": 3,
     "metadata": {},
     "output_type": "execute_result"
    }
   ],
   "source": [
    "[print(np.random.randint(2)) for i in range(10)]"
   ]
  },
  {
   "cell_type": "markdown",
   "metadata": {},
   "source": [
    "## Examples"
   ]
  },
  {
   "cell_type": "code",
   "execution_count": null,
   "metadata": {
    "collapsed": false
   },
   "outputs": [],
   "source": [
    "# Brightness Augmentation\n",
    "for i in range(10):\n",
    "    plt.imshow(bgr2rgb(aug_brightness(img)))\n",
    "    plt.axis('off')\n",
    "    plt.show()"
   ]
  },
  {
   "cell_type": "code",
   "execution_count": null,
   "metadata": {
    "collapsed": false,
    "scrolled": true
   },
   "outputs": [],
   "source": [
    "# Shadow Augmentation\n",
    "for i in range(10):\n",
    "    plt.imshow(bgr2rgb(aug_shadow(img)))\n",
    "    plt.axis('off')\n",
    "    plt.show()"
   ]
  },
  {
   "cell_type": "code",
   "execution_count": null,
   "metadata": {
    "collapsed": false,
    "scrolled": true
   },
   "outputs": [],
   "source": [
    "# Blur Augmentation\n",
    "plt.figure()\n",
    "for i in range(10):\n",
    "    plt.imshow(bgr2rgb(aug_blur(img)))\n",
    "    plt.axis('off')\n",
    "    plt.show()"
   ]
  },
  {
   "cell_type": "code",
   "execution_count": null,
   "metadata": {
    "collapsed": false,
    "scrolled": true
   },
   "outputs": [],
   "source": [
    "# Shift Augmentation\n",
    "plt.figure()\n",
    "for i in range(10):\n",
    "    plt.imshow(bgr2rgb(aug_shift(img)))\n",
    "    plt.axis('off')\n",
    "    plt.show()"
   ]
  },
  {
   "cell_type": "code",
   "execution_count": null,
   "metadata": {
    "collapsed": false
   },
   "outputs": [],
   "source": [
    "# Flip Augmentation\n",
    "plt.figure()\n",
    "plt.imshow(bgr2rgb(aug_flip(img)))\n",
    "plt.axis('off')\n",
    "plt.show()"
   ]
  },
  {
   "cell_type": "code",
   "execution_count": null,
   "metadata": {
    "collapsed": false,
    "scrolled": true
   },
   "outputs": [],
   "source": [
    "# Color Augmentation\n",
    "plt.figure()\n",
    "for i in range(10):\n",
    "    plt.imshow(bgr2rgb(aug_color(img)))\n",
    "    plt.axis('off')\n",
    "    plt.show()"
   ]
  },
  {
   "cell_type": "code",
   "execution_count": null,
   "metadata": {
    "collapsed": false,
    "scrolled": true
   },
   "outputs": [],
   "source": [
    "# Rotation Augmentation\n",
    "plt.figure()\n",
    "for i in range(10):\n",
    "    plt.imshow(bgr2rgb(aug_rotation(img)))\n",
    "    plt.axis('off')\n",
    "    plt.show()"
   ]
  },
  {
   "cell_type": "code",
   "execution_count": null,
   "metadata": {
    "collapsed": false,
    "scrolled": true
   },
   "outputs": [],
   "source": [
    "# Perspective Transform Augmentation\n",
    "plt.figure()\n",
    "for i in range(10):\n",
    "    plt.imshow(bgr2rgb(aug_perspective(img)))\n",
    "    plt.axis('off')\n",
    "    plt.show()"
   ]
  },
  {
   "cell_type": "code",
   "execution_count": null,
   "metadata": {
    "collapsed": true
   },
   "outputs": [],
   "source": []
  }
 ],
 "metadata": {
  "anaconda-cloud": {},
  "kernelspec": {
   "display_name": "Python [python3]",
   "language": "python",
   "name": "Python [python3]"
  },
  "language_info": {
   "codemirror_mode": {
    "name": "ipython",
    "version": 3
   },
   "file_extension": ".py",
   "mimetype": "text/x-python",
   "name": "python",
   "nbconvert_exporter": "python",
   "pygments_lexer": "ipython3",
   "version": "3.5.2"
  }
 },
 "nbformat": 4,
 "nbformat_minor": 0
}
